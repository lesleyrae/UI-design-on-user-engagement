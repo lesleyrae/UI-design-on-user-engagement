{
 "cells": [
  {
   "cell_type": "markdown",
   "id": "5d7869b0",
   "metadata": {},
   "source": [
    "## Data Challenge\n",
    "My task:\n",
    "Suppose you are a Data Scientist on the Mobile team. The team has just introduced a new UI design to the  app. The goal of the new design is to increase user engagement (measured by minutes spent on site). The team ran an A/B test to evaluate the change. Using the data, help the team understand the impact of the UI change better.\n",
    "\n",
    "- Treatment:\n",
    "New_UI design\n",
    "\n",
    "- Evaluations:\n",
    "User engagment(measured by minutes spent on site)\n",
    "\n",
    "Data:\n",
    "- t1_user_active_min.csv\n",
    "- t2_user_variant.csv\n",
    "- t3_user_active_min_pre.csv\n",
    "- t4_user_attributes.csv"
   ]
  },
  {
   "cell_type": "code",
   "execution_count": 1,
   "id": "610922fe",
   "metadata": {},
   "outputs": [],
   "source": [
    "import pandas as pd\n",
    "import numpy as np\n",
    "from scipy.stats import ttest_ind_from_stats\n",
    "from scipy import stats\n",
    "from datetime import datetime, timedelta\n",
    "import matplotlib.pyplot as plt\n",
    "import matplotlib as mpl\n",
    "import datetime as dt\n",
    "import seaborn as sns\n",
    "import math"
   ]
  },
  {
   "cell_type": "markdown",
   "id": "13bffb66",
   "metadata": {},
   "source": [
    "### Import and pre-preprocess the data\n",
    "1. Import the data\n",
    "2. Check the data format\n",
    "3. Check the anomomality of data"
   ]
  },
  {
   "cell_type": "code",
   "execution_count": 2,
   "id": "e790f762",
   "metadata": {},
   "outputs": [],
   "source": [
    "t1_user_active_min=pd.read_csv(\"t1_user_active_min.csv\")\n",
    "t2_user_variant=pd.read_csv('t2_user_variant.csv')\n",
    "t3_user_active_min_pre=pd.read_csv('t3_user_active_min_pre.csv')\n",
    "t4_user_attributes=pd.read_csv('t4_user_attributes.csv')"
   ]
  },
  {
   "cell_type": "code",
   "execution_count": 3,
   "id": "e5044731",
   "metadata": {},
   "outputs": [
    {
     "name": "stdout",
     "output_type": "stream",
     "text": [
      "<class 'pandas.core.frame.DataFrame'>\n",
      "RangeIndex: 1066402 entries, 0 to 1066401\n",
      "Data columns (total 3 columns):\n",
      " #   Column       Non-Null Count    Dtype  \n",
      "---  ------       --------------    -----  \n",
      " 0   uid          1066402 non-null  int64  \n",
      " 1   dt           1066402 non-null  object \n",
      " 2   active_mins  1066402 non-null  float64\n",
      "dtypes: float64(1), int64(1), object(1)\n",
      "memory usage: 24.4+ MB\n"
     ]
    }
   ],
   "source": [
    "t1_user_active_min.info()"
   ]
  },
  {
   "cell_type": "code",
   "execution_count": 4,
   "id": "aa201522",
   "metadata": {},
   "outputs": [
    {
     "name": "stdout",
     "output_type": "stream",
     "text": [
      "<class 'pandas.core.frame.DataFrame'>\n",
      "RangeIndex: 50000 entries, 0 to 49999\n",
      "Data columns (total 4 columns):\n",
      " #   Column          Non-Null Count  Dtype \n",
      "---  ------          --------------  ----- \n",
      " 0   uid             50000 non-null  int64 \n",
      " 1   variant_number  50000 non-null  int64 \n",
      " 2   dt              50000 non-null  object\n",
      " 3   signup_date     50000 non-null  object\n",
      "dtypes: int64(2), object(2)\n",
      "memory usage: 1.5+ MB\n"
     ]
    }
   ],
   "source": [
    "t2_user_variant.info()"
   ]
  },
  {
   "cell_type": "code",
   "execution_count": 5,
   "id": "cf9beaf2",
   "metadata": {},
   "outputs": [
    {
     "name": "stdout",
     "output_type": "stream",
     "text": [
      "<class 'pandas.core.frame.DataFrame'>\n",
      "RangeIndex: 1190093 entries, 0 to 1190092\n",
      "Data columns (total 3 columns):\n",
      " #   Column       Non-Null Count    Dtype  \n",
      "---  ------       --------------    -----  \n",
      " 0   uid          1190093 non-null  int64  \n",
      " 1   dt           1190093 non-null  object \n",
      " 2   active_mins  1190093 non-null  float64\n",
      "dtypes: float64(1), int64(1), object(1)\n",
      "memory usage: 27.2+ MB\n"
     ]
    }
   ],
   "source": [
    "t3_user_active_min_pre.info()"
   ]
  },
  {
   "cell_type": "code",
   "execution_count": 6,
   "id": "564905d6",
   "metadata": {},
   "outputs": [
    {
     "name": "stdout",
     "output_type": "stream",
     "text": [
      "<class 'pandas.core.frame.DataFrame'>\n",
      "RangeIndex: 50000 entries, 0 to 49999\n",
      "Data columns (total 3 columns):\n",
      " #   Column     Non-Null Count  Dtype \n",
      "---  ------     --------------  ----- \n",
      " 0   uid        50000 non-null  int64 \n",
      " 1   gender     50000 non-null  object\n",
      " 2   user_type  50000 non-null  object\n",
      "dtypes: int64(1), object(2)\n",
      "memory usage: 1.1+ MB\n"
     ]
    }
   ],
   "source": [
    "t4_user_attributes.info()"
   ]
  },
  {
   "cell_type": "code",
   "execution_count": 7,
   "id": "3ff7dcc4",
   "metadata": {},
   "outputs": [],
   "source": [
    "## Convert object datatype representing time to datetime format\n",
    "t1_user_active_min['dt']=pd.to_datetime(t1_user_active_min['dt'],format='%Y-%m-%d')\n",
    "t2_user_variant['signup_date']=pd.to_datetime(t2_user_variant['signup_date'],format='%Y-%m-%d')\n",
    "t2_user_variant['dt']=pd.to_datetime(t2_user_variant['dt'],format='%Y-%m-%d')\n",
    "t3_user_active_min_pre['dt']=pd.to_datetime(t3_user_active_min_pre['dt'],format='%Y-%m-%d')"
   ]
  },
  {
   "cell_type": "code",
   "execution_count": 8,
   "id": "73eede23",
   "metadata": {},
   "outputs": [
    {
     "name": "stdout",
     "output_type": "stream",
     "text": [
      "The experiment duration: 2019-02-06 to 2019-07-05 it lasts 150 days\n"
     ]
    }
   ],
   "source": [
    "##t1 contains active minutes data logged after experiment started.Thus, we wanna know the length of the experiment\n",
    "t1_min_dt=t1_user_active_min['dt'].min().date()\n",
    "t1_max_dt=t1_user_active_min['dt'].max().date()\n",
    "duration=(t1_max_dt-t1_min_dt).days\n",
    "print(\"The experiment duration:\",t1_min_dt,'to',t1_max_dt,'it lasts',duration+1,'days')"
   ]
  },
  {
   "cell_type": "code",
   "execution_count": 9,
   "id": "178c76e5",
   "metadata": {},
   "outputs": [
    {
     "name": "stdout",
     "output_type": "stream",
     "text": [
      "2019-02-06    50000\n",
      "Name: dt, dtype: int64\n",
      "The experiment date is '2019-02-06'\n"
     ]
    }
   ],
   "source": [
    "print(t2_user_variant['dt'].value_counts())\n",
    "print(\"The experiment date is '2019-02-06'\")"
   ]
  },
  {
   "cell_type": "code",
   "execution_count": 10,
   "id": "f4ce0668",
   "metadata": {},
   "outputs": [
    {
     "name": "stdout",
     "output_type": "stream",
     "text": [
      "The signup duration: 1970-01-01 to 2019-02-04 it lasts 17932 days\n"
     ]
    }
   ],
   "source": [
    "##Check t2 experiment group and sign_up date\n",
    "t2_min_signup=t2_user_variant['signup_date'].min().date()\n",
    "t2_max_signup=t2_user_variant['signup_date'].max().date()\n",
    "duration2=(t2_max_signup-t2_min_signup).days\n",
    "print(\"The signup duration:\",t2_min_signup,'to',t2_max_signup,'it lasts',duration2+1,'days')\n",
    "## 1970 seems odd, I need to check the singup date."
   ]
  },
  {
   "cell_type": "code",
   "execution_count": 11,
   "id": "8b8d2abb",
   "metadata": {
    "scrolled": true
   },
   "outputs": [
    {
     "data": {
      "text/plain": [
       "(49998, 5)"
      ]
     },
     "execution_count": 11,
     "metadata": {},
     "output_type": "execute_result"
    }
   ],
   "source": [
    "## Create a new columns to filter the signup year\n",
    "t2_user_variant['sign_year']=t2_user_variant['signup_date'].dt.year\n",
    "t2_user_variant['sign_year'].value_counts()\n",
    "##Delete data which signup year ==1970\n",
    "t2_user_variant=t2_user_variant[t2_user_variant['sign_year']!=1970]\n",
    "t2_user_variant.shape"
   ]
  },
  {
   "cell_type": "code",
   "execution_count": 12,
   "id": "93a2f6f1",
   "metadata": {},
   "outputs": [
    {
     "name": "stdout",
     "output_type": "stream",
     "text": [
      "The pre-experiment duration: 2018-08-10 to 2019-02-05 it lasts 180 days\n"
     ]
    }
   ],
   "source": [
    "t3_min_dt=t3_user_active_min_pre['dt'].min().date()\n",
    "t3_max_dt=t3_user_active_min_pre['dt'].max().date()\n",
    "duration3=(t3_max_dt-t3_min_dt).days\n",
    "print(\"The pre-experiment duration:\",t3_min_dt,'to',t3_max_dt,'it lasts',duration3+1,'days')"
   ]
  },
  {
   "cell_type": "code",
   "execution_count": 13,
   "id": "6d3acc97",
   "metadata": {
    "scrolled": true
   },
   "outputs": [],
   "source": [
    "## Merge the data of t2 and t1\n",
    "df_post=pd.merge(t2_user_variant,t1_user_active_min,on='uid',how='left')"
   ]
  },
  {
   "cell_type": "code",
   "execution_count": 14,
   "id": "f23de9c8",
   "metadata": {},
   "outputs": [],
   "source": [
    "df_post=df_post.rename(columns={'dt_x':'experiment_date','dt_y':'dt'})"
   ]
  },
  {
   "cell_type": "code",
   "execution_count": 15,
   "id": "4d21717f",
   "metadata": {},
   "outputs": [
    {
     "name": "stdout",
     "output_type": "stream",
     "text": [
      "1440\n",
      "Delete units: 172\n",
      "Remaining units: 1066170\n"
     ]
    }
   ],
   "source": [
    "##Active minutes have abnormal data,9999 should be the logging errors\n",
    "## Users stay more than 24hour*60minutes should be errors\n",
    "max_mins=24*60\n",
    "print(max_mins)\n",
    "df_post_new=df_post[df_post['active_mins']<=max_mins]\n",
    "print(\"Delete units:\",df_post[df_post['active_mins']>max_mins].shape[0])\n",
    "print(\"Remaining units:\",df_post_new.shape[0])"
   ]
  },
  {
   "cell_type": "markdown",
   "id": "3ea0e4b5",
   "metadata": {},
   "source": [
    "## Question 2:  Experiment Analysis\n",
    "- Unit of diversion\n",
    "User-id\n",
    "- Evaluation metrics\n",
    " - User engagment \n",
    "=total minutes of users spending on a site / number of users \n",
    " - Total minutes per user in each group (number of data points in each group = number of users in that group)\n",
    "- Null hypothesize\n",
    "With the launch of new UI desgin, minutes of one user spending on the site did not increase significantly\n",
    "- Alternative hypothesize\n",
    "With the launch of new UI desgin, minutes of one user spending on the site increase significantly"
   ]
  },
  {
   "cell_type": "code",
   "execution_count": 16,
   "id": "4fff8316",
   "metadata": {},
   "outputs": [
    {
     "data": {
      "text/plain": [
       "uid                0\n",
       "variant_number     0\n",
       "experiment_date    0\n",
       "signup_date        0\n",
       "sign_year          0\n",
       "dt                 0\n",
       "active_mins        0\n",
       "dtype: int64"
      ]
     },
     "execution_count": 16,
     "metadata": {},
     "output_type": "execute_result"
    }
   ],
   "source": [
    "df_post_new.isnull().sum()\n",
    "## There is no missing values in the df_post_new"
   ]
  },
  {
   "cell_type": "code",
   "execution_count": 17,
   "id": "b5f21d6b",
   "metadata": {},
   "outputs": [
    {
     "data": {
      "text/plain": [
       "46631"
      ]
     },
     "execution_count": 17,
     "metadata": {},
     "output_type": "execute_result"
    }
   ],
   "source": [
    "df_post_new['uid'].nunique()\n",
    "## there is 46631 uniuqe user in the experiment"
   ]
  },
  {
   "cell_type": "code",
   "execution_count": 18,
   "id": "f83f5ce5",
   "metadata": {},
   "outputs": [],
   "source": [
    "df_post_v1=df_post_new.groupby(['uid','variant_number'],as_index=False).agg({\n",
    "                                                      'active_mins':'sum'})"
   ]
  },
  {
   "cell_type": "code",
   "execution_count": 19,
   "id": "6bc3d1d8",
   "metadata": {
    "scrolled": false
   },
   "outputs": [
    {
     "data": {
      "text/html": [
       "<div>\n",
       "<style scoped>\n",
       "    .dataframe tbody tr th:only-of-type {\n",
       "        vertical-align: middle;\n",
       "    }\n",
       "\n",
       "    .dataframe tbody tr th {\n",
       "        vertical-align: top;\n",
       "    }\n",
       "\n",
       "    .dataframe thead th {\n",
       "        text-align: right;\n",
       "    }\n",
       "</style>\n",
       "<table border=\"1\" class=\"dataframe\">\n",
       "  <thead>\n",
       "    <tr style=\"text-align: right;\">\n",
       "      <th></th>\n",
       "      <th>mean</th>\n",
       "      <th>std</th>\n",
       "      <th>var</th>\n",
       "      <th>count</th>\n",
       "      <th>median</th>\n",
       "    </tr>\n",
       "    <tr>\n",
       "      <th>variant_number</th>\n",
       "      <th></th>\n",
       "      <th></th>\n",
       "      <th></th>\n",
       "      <th></th>\n",
       "      <th></th>\n",
       "    </tr>\n",
       "  </thead>\n",
       "  <tbody>\n",
       "    <tr>\n",
       "      <th>0</th>\n",
       "      <td>458.238142</td>\n",
       "      <td>1653.489681</td>\n",
       "      <td>2.734028e+06</td>\n",
       "      <td>37423</td>\n",
       "      <td>52.0</td>\n",
       "    </tr>\n",
       "    <tr>\n",
       "      <th>1</th>\n",
       "      <td>458.402476</td>\n",
       "      <td>1680.571091</td>\n",
       "      <td>2.824319e+06</td>\n",
       "      <td>9208</td>\n",
       "      <td>71.0</td>\n",
       "    </tr>\n",
       "  </tbody>\n",
       "</table>\n",
       "</div>"
      ],
      "text/plain": [
       "                      mean          std           var  count  median\n",
       "variant_number                                                      \n",
       "0               458.238142  1653.489681  2.734028e+06  37423    52.0\n",
       "1               458.402476  1680.571091  2.824319e+06   9208    71.0"
      ]
     },
     "execution_count": 19,
     "metadata": {},
     "output_type": "execute_result"
    }
   ],
   "source": [
    "df_post_v1.groupby(['variant_number'],as_index=False).active_mins.agg({'mean','std','var','median','count'})"
   ]
  },
  {
   "cell_type": "markdown",
   "id": "d08aad8d",
   "metadata": {},
   "source": [
    "It seems that there is no difference in mean between control group and treatment group"
   ]
  },
  {
   "cell_type": "code",
   "execution_count": 24,
   "id": "67b579af",
   "metadata": {
    "scrolled": true
   },
   "outputs": [
    {
     "name": "stderr",
     "output_type": "stream",
     "text": [
      "/Users/yanzhenlei/opt/anaconda3/lib/python3.8/site-packages/seaborn/distributions.py:2557: FutureWarning: `distplot` is a deprecated function and will be removed in a future version. Please adapt your code to use either `displot` (a figure-level function with similar flexibility) or `histplot` (an axes-level function for histograms).\n",
      "  warnings.warn(msg, FutureWarning)\n",
      "/Users/yanzhenlei/opt/anaconda3/lib/python3.8/site-packages/seaborn/distributions.py:2557: FutureWarning: `distplot` is a deprecated function and will be removed in a future version. Please adapt your code to use either `displot` (a figure-level function with similar flexibility) or `histplot` (an axes-level function for histograms).\n",
      "  warnings.warn(msg, FutureWarning)\n"
     ]
    },
    {
     "data": {
      "image/png": "[encoded data removed]",
      "text/plain": [
       "<Figure size 1152x576 with 1 Axes>"
      ]
     },
     "metadata": {
      "needs_background": "light"
     },
     "output_type": "display_data"
    }
   ],
   "source": [
    "plt.figsize=(16,8)\n",
    "treat=df_post_v1[df_post_v1['variant_number']==1]\n",
    "control=df_post_v1[df_post_v1['variant_number']==0]\n",
    "fig,ax=plt.subplots(figsize=(16,8))\n",
    "sns.distplot(treat['active_mins'],hist=True,color='r',label='treatment')\n",
    "sns.distplot(control['active_mins'],hist=True,color='b',label='control')\n",
    "plt.legend(['treatment group','control group'])\n",
    "plt.show()"
   ]
  },
  {
   "cell_type": "markdown",
   "id": "fa3857cd",
   "metadata": {},
   "source": [
    "### T-Test Result"
   ]
  },
  {
   "cell_type": "code",
   "execution_count": 25,
   "id": "1dbd6e0c",
   "metadata": {},
   "outputs": [],
   "source": [
    "mean_1=df_post_v1[df_post_v1['variant_number']==1].active_mins.mean()\n",
    "std_1=df_post_v1[df_post_v1['variant_number']==1].active_mins.std()\n",
    "count_1=df_post_v1[df_post_v1['variant_number']==1].active_mins.count()\n",
    "mean_0=df_post_v1[df_post_v1['variant_number']==0].active_mins.mean()\n",
    "std_0=df_post_v1[df_post_v1['variant_number']==0].active_mins.std()\n",
    "count_0=df_post_v1[df_post_v1['variant_number']==0].active_mins.count()"
   ]
  },
  {
   "cell_type": "code",
   "execution_count": 26,
   "id": "5ca1e395",
   "metadata": {},
   "outputs": [
    {
     "data": {
      "text/plain": [
       "Ttest_indResult(statistic=0.008432565461448143, pvalue=0.9932719867798543)"
      ]
     },
     "execution_count": 26,
     "metadata": {},
     "output_type": "execute_result"
    }
   ],
   "source": [
    "##Ttest\n",
    "ttest_ind_from_stats(mean1=mean_1,std1=std_1,nobs1=count_1,\n",
    "                     mean2=mean_0,std2=std_0,nobs2=count_0, equal_var=False)"
   ]
  },
  {
   "cell_type": "markdown",
   "id": "cadff391",
   "metadata": {},
   "source": [
    "The pvalue is high(0.9932), which is greater than 5% thus we reject the null hypothesize and accepte the alternative hypothesize that the users engagmenet increase significantly."
   ]
  },
  {
   "cell_type": "code",
   "execution_count": 27,
   "id": "fb800c03",
   "metadata": {},
   "outputs": [
    {
     "data": {
      "text/plain": [
       "(-38.031433446797, 38.36010102447222)"
      ]
     },
     "execution_count": 27,
     "metadata": {},
     "output_type": "execute_result"
    }
   ],
   "source": [
    "def calc_CI(mean_1,std_1,nobs1,mean_0,std_0,nobs0,CI_interval):\n",
    "    se = np.sqrt((std_1*std_1)/nobs1 +(std_0*std_0)/nobs0)\n",
    "    mean_diff=mean_1-mean_0\n",
    "    qt=stats.norm.isf((1-CI_interval)/2)\n",
    "    lower=mean_diff -qt*se\n",
    "    upper=mean_diff +qt*se\n",
    "    return(lower,upper)\n",
    "CI=calc_CI(mean_1,std_1,count_1,mean_0,std_0,count_0,0.95)\n",
    "CI"
   ]
  },
  {
   "cell_type": "markdown",
   "id": "31213810",
   "metadata": {},
   "source": [
    "- 0 include in the confidence interval so the result is not significant.\n",
    "- Although the result shows that the ttest is not significant, we can not ensure that both groups remain same performance before the experiment. Maybe time effect change their moving pattern. For example, the duration per user in treatment group are lower than the duration per user in control group before the experiment. Thus, we need to conduct further research"
   ]
  },
  {
   "cell_type": "markdown",
   "id": "1608e2d9",
   "metadata": {},
   "source": [
    "## Question 3: Before and After comparsion\n",
    "\n",
    "### Difference in difference methods\n",
    "Difference in differences(DID) is a statistical technique that attempts to mimic an experimental research design using observational study data, by studying the differential effect of a treatment on a 'treatment group' versus a 'control group' in a natural experiment. In the first period, none of the groups is exposed to treatment. In the second period, only one of the groups gets exposed to treatment, but not the other. \n",
    "\n",
    "DID calculates the effect of a treatment on an outcome by comparing the average change over time in the outcome variable for the treatment group to the average change over time for the control group. Although it is intended to mitigate the effects of extraneous factors and selection bias, depending on how the treatment group is chosen, this method may still be subject to certain biases.\n",
    "\n",
    "In order to mimic the experiment, we should choose two comparable groups. The data before and after experiment might contains people with different signup date and different activity date.\n",
    "Because our metrics is the total minutes per user with the time frame so it should be same time frame. Here I filter the users:\n",
    "1. The time frame for experiment duration is 150 days before and after the experiment, thus 300 days. \n",
    "2. The users' activity shoule be within the timeframe.\n",
    "3. The users signup date should before the timeframe. Thus, no new users would just in the two time period and it might affect the \n",
    "\n",
    "With this filterations and merge the before and after data with the same uid, I can extract the groups of people who went through the total time frame and evalute that whether the experiment improve the duration on site per user.\n",
    "1. Merge the data with same uid\n",
    "2. Calculate the difference in duration per users \n",
    "3. Perform T-Test and Calculate the Confidnece interval\n",
    "4. Draw a conclusion"
   ]
  },
  {
   "cell_type": "markdown",
   "id": "0cf8fbb0",
   "metadata": {},
   "source": [
    "### Filter the groups"
   ]
  },
  {
   "cell_type": "code",
   "execution_count": 73,
   "id": "fbc5ba53",
   "metadata": {},
   "outputs": [
    {
     "data": {
      "text/plain": [
       "(1190320, 7)"
      ]
     },
     "execution_count": 73,
     "metadata": {},
     "output_type": "execute_result"
    }
   ],
   "source": [
    "df_pre=pd.merge(t2_user_variant,t3_user_active_min_pre,on='uid',how='left')\n",
    "df_pre.shape"
   ]
  },
  {
   "cell_type": "code",
   "execution_count": 75,
   "id": "acbf2806",
   "metadata": {},
   "outputs": [],
   "source": [
    "df_pre=df_pre.rename(columns={'dt_x':'experiment_dt',\n",
    "                                   'dt_y':'dt'})"
   ]
  },
  {
   "cell_type": "code",
   "execution_count": 76,
   "id": "dc158cca",
   "metadata": {},
   "outputs": [
    {
     "name": "stdout",
     "output_type": "stream",
     "text": [
      "It deletes 166\n"
     ]
    }
   ],
   "source": [
    "#delete the odd number\n",
    "print('It deletes',df_pre[df_pre['active_mins']>max_mins].shape[0])\n",
    "df_pre=df_pre[df_pre['active_mins']<=max_mins]"
   ]
  },
  {
   "cell_type": "code",
   "execution_count": 77,
   "id": "a70af4f3",
   "metadata": {},
   "outputs": [
    {
     "data": {
      "text/plain": [
       "0    989252\n",
       "1    200599\n",
       "Name: variant_number, dtype: int64"
      ]
     },
     "execution_count": 77,
     "metadata": {},
     "output_type": "execute_result"
    }
   ],
   "source": [
    "df_pre['variant_number'].value_counts()"
   ]
  },
  {
   "cell_type": "markdown",
   "id": "bd5c31e3",
   "metadata": {},
   "source": [
    "Because we are comparing the data before experiment and after so the time duration should be the same. Also, it should be the same group of people, ruling out the influence of new-signup users."
   ]
  },
  {
   "cell_type": "code",
   "execution_count": 78,
   "id": "d8d069d7",
   "metadata": {
    "scrolled": true
   },
   "outputs": [
    {
     "name": "stdout",
     "output_type": "stream",
     "text": [
      "2018-09-09\n",
      "2019-07-05\n"
     ]
    }
   ],
   "source": [
    "early_dt=t3_max_dt-timedelta(days=149)\n",
    "late_dt=t1_max_dt\n",
    "print(early_dt)\n",
    "print(late_dt)"
   ]
  },
  {
   "cell_type": "markdown",
   "id": "4309cbc1",
   "metadata": {},
   "source": [
    "So the time frame should be '2018-09-09' to '2019-07-05'"
   ]
  },
  {
   "cell_type": "code",
   "execution_count": 38,
   "id": "dd08a7bd",
   "metadata": {},
   "outputs": [],
   "source": [
    "## Keep the activity after '2018-9-9'\n",
    "df_pre=df_pre[df_pre['dt']>='2018-09-09']"
   ]
  },
  {
   "cell_type": "code",
   "execution_count": 88,
   "id": "a16c6e85",
   "metadata": {},
   "outputs": [
    {
     "name": "stdout",
     "output_type": "stream",
     "text": [
      "df_post removes: 153052\n",
      "df_post remains: 913118\n",
      "df_pre removes: 101830\n",
      "df_pre remains: 1088021\n"
     ]
    }
   ],
   "source": [
    "## Keep data whose singup date <='2018-09-09'\n",
    "df_post_remain=df_post_new[df_post_new['signup_date']<'2018-09-09']\n",
    "df_post_remove=df_post_new[df_post_new['signup_date']>='2018-09-09']\n",
    "print(\"df_post removes:\",df_post_remove.shape[0])\n",
    "print(\"df_post remains:\",df_post_remain.shape[0])\n",
    "df_pre_remain=df_pre[df_pre['signup_date']<'2018-09-09']\n",
    "df_pre_remove=df_pre[df_pre['signup_date']>='2018-09-09']\n",
    "print(\"df_pre removes:\",df_pre_remove.shape[0])\n",
    "print(\"df_pre remains:\",df_pre_remain.shape[0])"
   ]
  },
  {
   "cell_type": "code",
   "execution_count": 90,
   "id": "b84b8048",
   "metadata": {
    "scrolled": true
   },
   "outputs": [
    {
     "name": "stdout",
     "output_type": "stream",
     "text": [
      "uid    35226\n",
      "dtype: int64\n"
     ]
    }
   ],
   "source": [
    "uids=pd.merge(df_post_remain['uid'],df_pre_remain['uid'],on='uid',how='inner')\n",
    "print(uids.nunique())\n",
    "## There are 36k users left"
   ]
  },
  {
   "cell_type": "code",
   "execution_count": 91,
   "id": "86158a3b",
   "metadata": {},
   "outputs": [
    {
     "name": "stdout",
     "output_type": "stream",
     "text": [
      "(913118, 7)\n",
      "(1088021, 7)\n"
     ]
    }
   ],
   "source": [
    "## keep the same group of users\n",
    "df_post_v2=df_post_remain[df_post_remain.uid.isin(uids.uid)&df_post_remain.sign_year!=1970]\n",
    "print(df_post_v2.shape)\n",
    "df_pre_v2=df_pre_remain[df_pre_remain.uid.isin(uids.uid)&df_pre_remain.sign_year!=1970]\n",
    "print(df_pre_v2.shape)"
   ]
  },
  {
   "cell_type": "code",
   "execution_count": 92,
   "id": "c0ad1b3f",
   "metadata": {},
   "outputs": [
    {
     "name": "stdout",
     "output_type": "stream",
     "text": [
      "Index(['uid', 'variant_number', 'experiment_dt', 'signup_date', 'sign_year',\n",
      "       'dt', 'active_mins'],\n",
      "      dtype='object')\n",
      "Index(['uid', 'variant_number', 'experiment_date', 'signup_date', 'sign_year',\n",
      "       'dt', 'active_mins'],\n",
      "      dtype='object')\n"
     ]
    }
   ],
   "source": [
    "print(df_pre_v2.columns)\n",
    "print(df_post_v2.columns)"
   ]
  },
  {
   "cell_type": "code",
   "execution_count": 275,
   "id": "932beede",
   "metadata": {},
   "outputs": [],
   "source": [
    "df_post_vn=df_post_v2.groupby(['variant_number','uid'],as_index=False).agg({'active_mins':'sum'})\n",
    "df_pre_vn=df_pre_v2.groupby(['variant_number','uid'],as_index=False).agg({'active_mins':'sum'})"
   ]
  },
  {
   "cell_type": "code",
   "execution_count": 296,
   "id": "8e963506",
   "metadata": {},
   "outputs": [],
   "source": [
    "df_post_v=df_post_v2.groupby(['variant_number','dt'],as_index=False).agg({'active_mins':'mean'})\n",
    "df_pre_v=df_pre_v2.groupby(['variant_number','dt'],as_index=False).agg({'active_mins':'mean'})"
   ]
  },
  {
   "cell_type": "code",
   "execution_count": 297,
   "id": "20e1f284",
   "metadata": {},
   "outputs": [],
   "source": [
    "total_v=df_post_v.append(df_pre_v)"
   ]
  },
  {
   "cell_type": "code",
   "execution_count": 298,
   "id": "ab922a3a",
   "metadata": {
    "scrolled": true
   },
   "outputs": [],
   "source": [
    "total_v=total_v.set_index('dt')"
   ]
  },
  {
   "cell_type": "code",
   "execution_count": 299,
   "id": "8dbe4b1d",
   "metadata": {
    "scrolled": true
   },
   "outputs": [
    {
     "name": "stdout",
     "output_type": "stream",
     "text": [
      "DatetimeIndex(['2019-02-06', '2019-02-07', '2019-02-08', '2019-02-09',\n",
      "               '2019-02-10', '2019-02-11', '2019-02-12', '2019-02-13',\n",
      "               '2019-02-14', '2019-02-15',\n",
      "               ...\n",
      "               '2019-01-27', '2019-01-28', '2019-01-29', '2019-01-30',\n",
      "               '2019-01-31', '2019-02-01', '2019-02-02', '2019-02-03',\n",
      "               '2019-02-04', '2019-02-05'],\n",
      "              dtype='datetime64[ns]', name='dt', length=660, freq=None)\n"
     ]
    }
   ],
   "source": [
    "index=total_v.index\n",
    "print(index)"
   ]
  },
  {
   "cell_type": "code",
   "execution_count": 300,
   "id": "1d0a313f",
   "metadata": {},
   "outputs": [],
   "source": [
    "control=total_v[total_v['variant_number']==0]['active_mins']\n",
    "treat=total_v[total_v['variant_number']==1]['active_mins']\n",
    "a1=pd.DataFrame({'control_group':control,'treat_group':treat},index=index)"
   ]
  },
  {
   "cell_type": "code",
   "execution_count": 306,
   "id": "72d220b8",
   "metadata": {},
   "outputs": [
    {
     "data": {
      "image/png": "[encoded data removed]",
      "text/plain": [
       "<Figure size 864x576 with 1 Axes>"
      ]
     },
     "metadata": {
      "needs_background": "light"
     },
     "output_type": "display_data"
    }
   ],
   "source": [
    "a1.plot(figsize=(12,8))\n",
    "plt.axvline(x='2019-02-06',ls='--',c='red')\n",
    "plt.title('Average duration per user per day')\n",
    "plt.show()"
   ]
  },
  {
   "cell_type": "code",
   "execution_count": 94,
   "id": "dae11f86",
   "metadata": {},
   "outputs": [
    {
     "data": {
      "text/html": [
       "<div>\n",
       "<style scoped>\n",
       "    .dataframe tbody tr th:only-of-type {\n",
       "        vertical-align: middle;\n",
       "    }\n",
       "\n",
       "    .dataframe tbody tr th {\n",
       "        vertical-align: top;\n",
       "    }\n",
       "\n",
       "    .dataframe thead th {\n",
       "        text-align: right;\n",
       "    }\n",
       "</style>\n",
       "<table border=\"1\" class=\"dataframe\">\n",
       "  <thead>\n",
       "    <tr style=\"text-align: right;\">\n",
       "      <th></th>\n",
       "      <th>mean</th>\n",
       "      <th>std</th>\n",
       "      <th>var</th>\n",
       "      <th>count</th>\n",
       "      <th>median</th>\n",
       "    </tr>\n",
       "    <tr>\n",
       "      <th>variant_number</th>\n",
       "      <th></th>\n",
       "      <th></th>\n",
       "      <th></th>\n",
       "      <th></th>\n",
       "      <th></th>\n",
       "    </tr>\n",
       "  </thead>\n",
       "  <tbody>\n",
       "    <tr>\n",
       "      <th>0</th>\n",
       "      <td>539.438216</td>\n",
       "      <td>1812.361414</td>\n",
       "      <td>3.284654e+06</td>\n",
       "      <td>28438</td>\n",
       "      <td>68.0</td>\n",
       "    </tr>\n",
       "    <tr>\n",
       "      <th>1</th>\n",
       "      <td>548.661233</td>\n",
       "      <td>1828.184699</td>\n",
       "      <td>3.342259e+06</td>\n",
       "      <td>6810</td>\n",
       "      <td>92.0</td>\n",
       "    </tr>\n",
       "  </tbody>\n",
       "</table>\n",
       "</div>"
      ],
      "text/plain": [
       "                      mean          std           var  count  median\n",
       "variant_number                                                      \n",
       "0               539.438216  1812.361414  3.284654e+06  28438    68.0\n",
       "1               548.661233  1828.184699  3.342259e+06   6810    92.0"
      ]
     },
     "execution_count": 94,
     "metadata": {},
     "output_type": "execute_result"
    }
   ],
   "source": [
    "df_post_vn.groupby(['variant_number'],as_index=False).active_mins.agg({'mean','std','var','median','count'})"
   ]
  },
  {
   "cell_type": "code",
   "execution_count": 95,
   "id": "42e90ac4",
   "metadata": {
    "scrolled": false
   },
   "outputs": [
    {
     "data": {
      "text/html": [
       "<div>\n",
       "<style scoped>\n",
       "    .dataframe tbody tr th:only-of-type {\n",
       "        vertical-align: middle;\n",
       "    }\n",
       "\n",
       "    .dataframe tbody tr th {\n",
       "        vertical-align: top;\n",
       "    }\n",
       "\n",
       "    .dataframe thead th {\n",
       "        text-align: right;\n",
       "    }\n",
       "</style>\n",
       "<table border=\"1\" class=\"dataframe\">\n",
       "  <thead>\n",
       "    <tr style=\"text-align: right;\">\n",
       "      <th></th>\n",
       "      <th>mean</th>\n",
       "      <th>std</th>\n",
       "      <th>var</th>\n",
       "      <th>count</th>\n",
       "      <th>median</th>\n",
       "    </tr>\n",
       "    <tr>\n",
       "      <th>variant_number</th>\n",
       "      <th></th>\n",
       "      <th></th>\n",
       "      <th></th>\n",
       "      <th></th>\n",
       "      <th></th>\n",
       "    </tr>\n",
       "  </thead>\n",
       "  <tbody>\n",
       "    <tr>\n",
       "      <th>0</th>\n",
       "      <td>614.829891</td>\n",
       "      <td>2087.267719</td>\n",
       "      <td>4.356687e+06</td>\n",
       "      <td>29193</td>\n",
       "      <td>83.0</td>\n",
       "    </tr>\n",
       "    <tr>\n",
       "      <th>1</th>\n",
       "      <td>364.805417</td>\n",
       "      <td>1255.363618</td>\n",
       "      <td>1.575938e+06</td>\n",
       "      <td>7015</td>\n",
       "      <td>71.0</td>\n",
       "    </tr>\n",
       "  </tbody>\n",
       "</table>\n",
       "</div>"
      ],
      "text/plain": [
       "                      mean          std           var  count  median\n",
       "variant_number                                                      \n",
       "0               614.829891  2087.267719  4.356687e+06  29193    83.0\n",
       "1               364.805417  1255.363618  1.575938e+06   7015    71.0"
      ]
     },
     "execution_count": 95,
     "metadata": {},
     "output_type": "execute_result"
    }
   ],
   "source": [
    "df_pre_vn.groupby(['variant_number'],as_index=False).active_mins.agg({'mean','std','var','median','count'})"
   ]
  },
  {
   "cell_type": "markdown",
   "id": "981f5669",
   "metadata": {},
   "source": [
    "From the above results,before the experiment , the total minutes per users in treatment group is way less than those in control group while after the experiment,the total minutes per users in treatment group is slightly higher than those in control group. Maybe variances in groups played a role and Thus we use the DID methods to examinate whether the difference over time is significant."
   ]
  },
  {
   "cell_type": "markdown",
   "id": "fb54ac7d",
   "metadata": {},
   "source": [
    "### Difference in difference methods"
   ]
  },
  {
   "cell_type": "code",
   "execution_count": 313,
   "id": "54470dcf",
   "metadata": {},
   "outputs": [],
   "source": [
    "total_v1=pd.merge(df_post_vn,df_pre_vn,on=['uid','variant_number'],how='inner')"
   ]
  },
  {
   "cell_type": "code",
   "execution_count": 314,
   "id": "a101929a",
   "metadata": {},
   "outputs": [
    {
     "data": {
      "text/plain": [
       "(35226, 4)"
      ]
     },
     "execution_count": 314,
     "metadata": {},
     "output_type": "execute_result"
    }
   ],
   "source": [
    "total_v1.shape"
   ]
  },
  {
   "cell_type": "code",
   "execution_count": 315,
   "id": "fa12d410",
   "metadata": {
    "scrolled": true
   },
   "outputs": [
    {
     "data": {
      "text/plain": [
       "variant_number    0\n",
       "uid               0\n",
       "active_mins_x     0\n",
       "active_mins_y     0\n",
       "dtype: int64"
      ]
     },
     "execution_count": 315,
     "metadata": {},
     "output_type": "execute_result"
    }
   ],
   "source": [
    "total_v1.isnull().sum()"
   ]
  },
  {
   "cell_type": "code",
   "execution_count": 316,
   "id": "99f26d8e",
   "metadata": {
    "scrolled": false
   },
   "outputs": [
    {
     "data": {
      "text/plain": [
       "Index(['variant_number', 'uid', 'active_mins_x', 'active_mins_y'], dtype='object')"
      ]
     },
     "execution_count": 316,
     "metadata": {},
     "output_type": "execute_result"
    }
   ],
   "source": [
    "total_v1.columns"
   ]
  },
  {
   "cell_type": "code",
   "execution_count": 317,
   "id": "7dafaafd",
   "metadata": {},
   "outputs": [],
   "source": [
    "total_v1['diff']=total_v1['active_mins_x']-total_v1['active_mins_y']"
   ]
  },
  {
   "cell_type": "code",
   "execution_count": 318,
   "id": "f99eae7b",
   "metadata": {},
   "outputs": [
    {
     "data": {
      "text/plain": [
       "Ttest_indResult(statistic=18.517467441085433, pvalue=2.5313514025385594e-75)"
      ]
     },
     "execution_count": 318,
     "metadata": {},
     "output_type": "execute_result"
    }
   ],
   "source": [
    "control=total_v1[(total_v1.variant_number==0)]\n",
    "treat=total_v1[(total_v1.variant_number==1)]\n",
    "    \n",
    "mean1_1=treat['diff'].mean()\n",
    "mean0_1=control['diff'].mean()\n",
    "std1_1=treat['diff'].std()\n",
    "std0_1=control['diff'].std()\n",
    "count1_1=treat['diff'].count()\n",
    "count0_1=control['diff'].count()\n",
    "    \n",
    "ttest_ind_from_stats(mean1=mean1_1,std1=std1_1,nobs1=count1_1,\n",
    "                     mean2=mean0_1,std2=std0_1,nobs2=count0_1, equal_var=False)"
   ]
  },
  {
   "cell_type": "markdown",
   "id": "c7cf459a",
   "metadata": {},
   "source": [
    "The pvalue is less than 5% thus we reject the null hypothesize and accepte the alternative hypothesize that the duration of the same group increase significantly."
   ]
  },
  {
   "cell_type": "code",
   "execution_count": 322,
   "id": "ec270e2c",
   "metadata": {},
   "outputs": [
    {
     "data": {
      "image/png": "[encoded data removed]",
      "text/plain": [
       "<Figure size 864x576 with 1 Axes>"
      ]
     },
     "metadata": {
      "needs_background": "light"
     },
     "output_type": "display_data"
    }
   ],
   "source": [
    "f, (ax1) = plt.subplots(1,figsize=(12,8))\n",
    "x=['Time1','Time2']\n",
    "y1=[treat['active_mins_y'].mean(),treat['active_mins_x'].mean()]\n",
    "y2=[control['active_mins_y'].mean(),control['active_mins_x'].mean()]\n",
    "ax1.plot(x,y1,y2)\n",
    "ax1.axvline(x='Time1',color='r',ls='--')\n",
    "ax1.axvline(x='Time2',color='r',ls='--')\n",
    "ax1.set_ylim(0,1000)\n",
    "ax1.set_title('Total minutes per user in both group')\n",
    "ax1.legend(['treatment group','control group'])\n",
    "plt.show()"
   ]
  },
  {
   "cell_type": "code",
   "execution_count": 312,
   "id": "b5443a6c",
   "metadata": {},
   "outputs": [
    {
     "data": {
      "text/plain": [
       "(235.65337337266325, 291.44344170729573)"
      ]
     },
     "execution_count": 312,
     "metadata": {},
     "output_type": "execute_result"
    }
   ],
   "source": [
    "CI=calc_CI(mean1_1,std1_1,count1_1,\n",
    "           mean0_1,std0_1,count0_1,0.95)\n",
    "CI"
   ]
  },
  {
   "cell_type": "markdown",
   "id": "c672b544",
   "metadata": {},
   "source": [
    "0 doesn't include in the confidence interval so the result is significant."
   ]
  },
  {
   "cell_type": "markdown",
   "id": "e340f689",
   "metadata": {},
   "source": [
    "## Question 4"
   ]
  },
  {
   "cell_type": "code",
   "execution_count": 196,
   "id": "4ef244cc",
   "metadata": {},
   "outputs": [
    {
     "data": {
      "text/html": [
       "<div>\n",
       "<style scoped>\n",
       "    .dataframe tbody tr th:only-of-type {\n",
       "        vertical-align: middle;\n",
       "    }\n",
       "\n",
       "    .dataframe tbody tr th {\n",
       "        vertical-align: top;\n",
       "    }\n",
       "\n",
       "    .dataframe thead th {\n",
       "        text-align: right;\n",
       "    }\n",
       "</style>\n",
       "<table border=\"1\" class=\"dataframe\">\n",
       "  <thead>\n",
       "    <tr style=\"text-align: right;\">\n",
       "      <th></th>\n",
       "      <th>uid</th>\n",
       "      <th>variant_number</th>\n",
       "      <th>active_mins</th>\n",
       "    </tr>\n",
       "  </thead>\n",
       "  <tbody>\n",
       "    <tr>\n",
       "      <th>0</th>\n",
       "      <td>0</td>\n",
       "      <td>0</td>\n",
       "      <td>43.0</td>\n",
       "    </tr>\n",
       "    <tr>\n",
       "      <th>1</th>\n",
       "      <td>1</td>\n",
       "      <td>0</td>\n",
       "      <td>15205.0</td>\n",
       "    </tr>\n",
       "    <tr>\n",
       "      <th>2</th>\n",
       "      <td>2</td>\n",
       "      <td>0</td>\n",
       "      <td>17.0</td>\n",
       "    </tr>\n",
       "    <tr>\n",
       "      <th>3</th>\n",
       "      <td>3</td>\n",
       "      <td>0</td>\n",
       "      <td>77.0</td>\n",
       "    </tr>\n",
       "    <tr>\n",
       "      <th>4</th>\n",
       "      <td>4</td>\n",
       "      <td>0</td>\n",
       "      <td>39.0</td>\n",
       "    </tr>\n",
       "    <tr>\n",
       "      <th>...</th>\n",
       "      <td>...</td>\n",
       "      <td>...</td>\n",
       "      <td>...</td>\n",
       "    </tr>\n",
       "    <tr>\n",
       "      <th>46626</th>\n",
       "      <td>49995</td>\n",
       "      <td>1</td>\n",
       "      <td>95.0</td>\n",
       "    </tr>\n",
       "    <tr>\n",
       "      <th>46627</th>\n",
       "      <td>49996</td>\n",
       "      <td>1</td>\n",
       "      <td>156.0</td>\n",
       "    </tr>\n",
       "    <tr>\n",
       "      <th>46628</th>\n",
       "      <td>49997</td>\n",
       "      <td>1</td>\n",
       "      <td>379.0</td>\n",
       "    </tr>\n",
       "    <tr>\n",
       "      <th>46629</th>\n",
       "      <td>49998</td>\n",
       "      <td>1</td>\n",
       "      <td>597.0</td>\n",
       "    </tr>\n",
       "    <tr>\n",
       "      <th>46630</th>\n",
       "      <td>49999</td>\n",
       "      <td>1</td>\n",
       "      <td>39.0</td>\n",
       "    </tr>\n",
       "  </tbody>\n",
       "</table>\n",
       "<p>46631 rows × 3 columns</p>\n",
       "</div>"
      ],
      "text/plain": [
       "         uid  variant_number  active_mins\n",
       "0          0               0         43.0\n",
       "1          1               0      15205.0\n",
       "2          2               0         17.0\n",
       "3          3               0         77.0\n",
       "4          4               0         39.0\n",
       "...      ...             ...          ...\n",
       "46626  49995               1         95.0\n",
       "46627  49996               1        156.0\n",
       "46628  49997               1        379.0\n",
       "46629  49998               1        597.0\n",
       "46630  49999               1         39.0\n",
       "\n",
       "[46631 rows x 3 columns]"
      ]
     },
     "execution_count": 196,
     "metadata": {},
     "output_type": "execute_result"
    }
   ],
   "source": [
    "df_post_v1"
   ]
  },
  {
   "cell_type": "code",
   "execution_count": 197,
   "id": "57275a7c",
   "metadata": {},
   "outputs": [],
   "source": [
    "total_v0=pd.merge(df_post_v1,t4_user_attributes,on='uid',how='left')"
   ]
  },
  {
   "cell_type": "code",
   "execution_count": 198,
   "id": "e4dcb35e",
   "metadata": {
    "scrolled": true
   },
   "outputs": [
    {
     "data": {
      "text/html": [
       "<div>\n",
       "<style scoped>\n",
       "    .dataframe tbody tr th:only-of-type {\n",
       "        vertical-align: middle;\n",
       "    }\n",
       "\n",
       "    .dataframe tbody tr th {\n",
       "        vertical-align: top;\n",
       "    }\n",
       "\n",
       "    .dataframe thead th {\n",
       "        text-align: right;\n",
       "    }\n",
       "</style>\n",
       "<table border=\"1\" class=\"dataframe\">\n",
       "  <thead>\n",
       "    <tr style=\"text-align: right;\">\n",
       "      <th></th>\n",
       "      <th></th>\n",
       "      <th>mean</th>\n",
       "      <th>std</th>\n",
       "      <th>median</th>\n",
       "      <th>count</th>\n",
       "    </tr>\n",
       "    <tr>\n",
       "      <th>user_type</th>\n",
       "      <th>variant_number</th>\n",
       "      <th></th>\n",
       "      <th></th>\n",
       "      <th></th>\n",
       "      <th></th>\n",
       "    </tr>\n",
       "  </thead>\n",
       "  <tbody>\n",
       "    <tr>\n",
       "      <th rowspan=\"2\" valign=\"top\">contributor</th>\n",
       "      <th>0</th>\n",
       "      <td>4309.835346</td>\n",
       "      <td>5907.027729</td>\n",
       "      <td>2173.0</td>\n",
       "      <td>911</td>\n",
       "    </tr>\n",
       "    <tr>\n",
       "      <th>1</th>\n",
       "      <td>4708.031496</td>\n",
       "      <td>7266.707254</td>\n",
       "      <td>1808.0</td>\n",
       "      <td>127</td>\n",
       "    </tr>\n",
       "    <tr>\n",
       "      <th rowspan=\"2\" valign=\"top\">new_user</th>\n",
       "      <th>0</th>\n",
       "      <td>28.685209</td>\n",
       "      <td>150.615233</td>\n",
       "      <td>8.0</td>\n",
       "      <td>2373</td>\n",
       "    </tr>\n",
       "    <tr>\n",
       "      <th>1</th>\n",
       "      <td>52.955446</td>\n",
       "      <td>207.580212</td>\n",
       "      <td>15.0</td>\n",
       "      <td>808</td>\n",
       "    </tr>\n",
       "    <tr>\n",
       "      <th rowspan=\"2\" valign=\"top\">non_reader</th>\n",
       "      <th>0</th>\n",
       "      <td>104.850514</td>\n",
       "      <td>334.740354</td>\n",
       "      <td>39.0</td>\n",
       "      <td>27454</td>\n",
       "    </tr>\n",
       "    <tr>\n",
       "      <th>1</th>\n",
       "      <td>164.348638</td>\n",
       "      <td>442.733561</td>\n",
       "      <td>61.0</td>\n",
       "      <td>7013</td>\n",
       "    </tr>\n",
       "    <tr>\n",
       "      <th rowspan=\"2\" valign=\"top\">reader</th>\n",
       "      <th>0</th>\n",
       "      <td>1537.135378</td>\n",
       "      <td>2514.704902</td>\n",
       "      <td>603.0</td>\n",
       "      <td>6685</td>\n",
       "    </tr>\n",
       "    <tr>\n",
       "      <th>1</th>\n",
       "      <td>1926.734127</td>\n",
       "      <td>3111.833859</td>\n",
       "      <td>829.5</td>\n",
       "      <td>1260</td>\n",
       "    </tr>\n",
       "  </tbody>\n",
       "</table>\n",
       "</div>"
      ],
      "text/plain": [
       "                                   mean          std  median  count\n",
       "user_type   variant_number                                         \n",
       "contributor 0               4309.835346  5907.027729  2173.0    911\n",
       "            1               4708.031496  7266.707254  1808.0    127\n",
       "new_user    0                 28.685209   150.615233     8.0   2373\n",
       "            1                 52.955446   207.580212    15.0    808\n",
       "non_reader  0                104.850514   334.740354    39.0  27454\n",
       "            1                164.348638   442.733561    61.0   7013\n",
       "reader      0               1537.135378  2514.704902   603.0   6685\n",
       "            1               1926.734127  3111.833859   829.5   1260"
      ]
     },
     "execution_count": 198,
     "metadata": {},
     "output_type": "execute_result"
    }
   ],
   "source": [
    "total_v0.groupby(['user_type','variant_number']).active_mins.agg({'mean','count','median','std'})"
   ]
  },
  {
   "cell_type": "code",
   "execution_count": 245,
   "id": "28d805a5",
   "metadata": {},
   "outputs": [
    {
     "data": {
      "text/plain": [
       "Text(0.5, 1.0, 'Difference in different user_type')"
      ]
     },
     "execution_count": 245,
     "metadata": {},
     "output_type": "execute_result"
    },
    {
     "data": {
      "image/png": "[encoded data removed]",
      "text/plain": [
       "<Figure size 720x432 with 1 Axes>"
      ]
     },
     "metadata": {
      "needs_background": "light"
     },
     "output_type": "display_data"
    }
   ],
   "source": [
    "total_u=total_v0.groupby(['user_type','variant_number'],as_index=False).agg({'active_mins':'mean'})\n",
    "total_u=total_u.set_index('user_type')\n",
    "control=total_u[total_u['variant_number']==0]['active_mins']\n",
    "treat=total_u[total_u['variant_number']==1]['active_mins']\n",
    "index=list(set(total_u.index))\n",
    "total_u2=pd.DataFrame({'control_group':control,'treat_group':treat},index=index)\n",
    "total_u2.plot.bar(figsize=(10,6))\n",
    "plt.title('Difference in different user_type')"
   ]
  },
  {
   "cell_type": "code",
   "execution_count": 244,
   "id": "bb2e3ccb",
   "metadata": {},
   "outputs": [
    {
     "data": {
      "text/plain": [
       "Text(0.5, 1.0, 'Difference in different gender')"
      ]
     },
     "execution_count": 244,
     "metadata": {},
     "output_type": "execute_result"
    },
    {
     "data": {
      "image/png": "[encoded data removed]",
      "text/plain": [
       "<Figure size 720x432 with 1 Axes>"
      ]
     },
     "metadata": {
      "needs_background": "light"
     },
     "output_type": "display_data"
    }
   ],
   "source": [
    "total_u=total_v0.groupby(['gender','variant_number'],as_index=False).agg({'active_mins':'mean'})\n",
    "total_u=total_u.set_index('gender')\n",
    "control=total_u[total_u['variant_number']==0]['active_mins']\n",
    "treat=total_u[total_u['variant_number']==1]['active_mins']\n",
    "index=list(set(total_u.index))\n",
    "total_u2=pd.DataFrame({'control_group':control,'treat_group':treat},index=index)\n",
    "total_u2.plot.bar(figsize=(10,6))\n",
    "plt.title('Difference in different gender')"
   ]
  },
  {
   "cell_type": "markdown",
   "id": "9ea7c2e9",
   "metadata": {},
   "source": [
    "### T-test for segments"
   ]
  },
  {
   "cell_type": "code",
   "execution_count": 261,
   "id": "f5b65509",
   "metadata": {
    "scrolled": false
   },
   "outputs": [
    {
     "data": {
      "text/html": [
       "<div>\n",
       "<style scoped>\n",
       "    .dataframe tbody tr th:only-of-type {\n",
       "        vertical-align: middle;\n",
       "    }\n",
       "\n",
       "    .dataframe tbody tr th {\n",
       "        vertical-align: top;\n",
       "    }\n",
       "\n",
       "    .dataframe thead th {\n",
       "        text-align: right;\n",
       "    }\n",
       "</style>\n",
       "<table border=\"1\" class=\"dataframe\">\n",
       "  <thead>\n",
       "    <tr style=\"text-align: right;\">\n",
       "      <th>gender</th>\n",
       "      <th>female</th>\n",
       "      <th>male</th>\n",
       "      <th>unknown</th>\n",
       "    </tr>\n",
       "    <tr>\n",
       "      <th>variant_number</th>\n",
       "      <th></th>\n",
       "      <th></th>\n",
       "      <th></th>\n",
       "    </tr>\n",
       "  </thead>\n",
       "  <tbody>\n",
       "    <tr>\n",
       "      <th>0</th>\n",
       "      <td>0.286856</td>\n",
       "      <td>0.561286</td>\n",
       "      <td>0.151858</td>\n",
       "    </tr>\n",
       "    <tr>\n",
       "      <th>1</th>\n",
       "      <td>0.283666</td>\n",
       "      <td>0.557776</td>\n",
       "      <td>0.158558</td>\n",
       "    </tr>\n",
       "  </tbody>\n",
       "</table>\n",
       "</div>"
      ],
      "text/plain": [
       "gender            female      male   unknown\n",
       "variant_number                              \n",
       "0               0.286856  0.561286  0.151858\n",
       "1               0.283666  0.557776  0.158558"
      ]
     },
     "execution_count": 261,
     "metadata": {},
     "output_type": "execute_result"
    }
   ],
   "source": [
    "pd.crosstab(total_v0['variant_number'],total_v0['gender']).apply(lambda r:r/r.sum(),axis=1)"
   ]
  },
  {
   "cell_type": "markdown",
   "id": "f743c561",
   "metadata": {},
   "source": [
    "The distribution of gender is balanced"
   ]
  },
  {
   "cell_type": "code",
   "execution_count": 262,
   "id": "3a15d713",
   "metadata": {
    "scrolled": false
   },
   "outputs": [
    {
     "data": {
      "text/html": [
       "<div>\n",
       "<style scoped>\n",
       "    .dataframe tbody tr th:only-of-type {\n",
       "        vertical-align: middle;\n",
       "    }\n",
       "\n",
       "    .dataframe tbody tr th {\n",
       "        vertical-align: top;\n",
       "    }\n",
       "\n",
       "    .dataframe thead th {\n",
       "        text-align: right;\n",
       "    }\n",
       "</style>\n",
       "<table border=\"1\" class=\"dataframe\">\n",
       "  <thead>\n",
       "    <tr style=\"text-align: right;\">\n",
       "      <th>user_type</th>\n",
       "      <th>contributor</th>\n",
       "      <th>new_user</th>\n",
       "      <th>non_reader</th>\n",
       "      <th>reader</th>\n",
       "    </tr>\n",
       "    <tr>\n",
       "      <th>variant_number</th>\n",
       "      <th></th>\n",
       "      <th></th>\n",
       "      <th></th>\n",
       "      <th></th>\n",
       "    </tr>\n",
       "  </thead>\n",
       "  <tbody>\n",
       "    <tr>\n",
       "      <th>0</th>\n",
       "      <td>0.024343</td>\n",
       "      <td>0.06341</td>\n",
       "      <td>0.733613</td>\n",
       "      <td>0.178633</td>\n",
       "    </tr>\n",
       "    <tr>\n",
       "      <th>1</th>\n",
       "      <td>0.013792</td>\n",
       "      <td>0.08775</td>\n",
       "      <td>0.761620</td>\n",
       "      <td>0.136838</td>\n",
       "    </tr>\n",
       "  </tbody>\n",
       "</table>\n",
       "</div>"
      ],
      "text/plain": [
       "user_type       contributor  new_user  non_reader    reader\n",
       "variant_number                                             \n",
       "0                  0.024343   0.06341    0.733613  0.178633\n",
       "1                  0.013792   0.08775    0.761620  0.136838"
      ]
     },
     "execution_count": 262,
     "metadata": {},
     "output_type": "execute_result"
    }
   ],
   "source": [
    "pd.crosstab(total_v0['variant_number'],total_v0['user_type']).apply(lambda r:r/r.sum(),axis=1)"
   ]
  },
  {
   "cell_type": "markdown",
   "id": "d5ced56b",
   "metadata": {},
   "source": [
    "The distribution of user_type is not balanced. The portotion of contributor in control group is higher than that in treatment group. "
   ]
  },
  {
   "cell_type": "code",
   "execution_count": 263,
   "id": "00770d51",
   "metadata": {
    "scrolled": false
   },
   "outputs": [
    {
     "data": {
      "text/html": [
       "<div>\n",
       "<style scoped>\n",
       "    .dataframe tbody tr th:only-of-type {\n",
       "        vertical-align: middle;\n",
       "    }\n",
       "\n",
       "    .dataframe tbody tr th {\n",
       "        vertical-align: top;\n",
       "    }\n",
       "\n",
       "    .dataframe thead th {\n",
       "        text-align: right;\n",
       "    }\n",
       "</style>\n",
       "<table border=\"1\" class=\"dataframe\">\n",
       "  <thead>\n",
       "    <tr style=\"text-align: right;\">\n",
       "      <th>user_type</th>\n",
       "      <th>contributor</th>\n",
       "      <th>new_user</th>\n",
       "      <th>non_reader</th>\n",
       "      <th>reader</th>\n",
       "    </tr>\n",
       "    <tr>\n",
       "      <th>gender</th>\n",
       "      <th></th>\n",
       "      <th></th>\n",
       "      <th></th>\n",
       "      <th></th>\n",
       "    </tr>\n",
       "  </thead>\n",
       "  <tbody>\n",
       "    <tr>\n",
       "      <th>female</th>\n",
       "      <td>0.018656</td>\n",
       "      <td>0.077770</td>\n",
       "      <td>0.742789</td>\n",
       "      <td>0.160785</td>\n",
       "    </tr>\n",
       "    <tr>\n",
       "      <th>male</th>\n",
       "      <td>0.025783</td>\n",
       "      <td>0.057725</td>\n",
       "      <td>0.731189</td>\n",
       "      <td>0.185303</td>\n",
       "    </tr>\n",
       "    <tr>\n",
       "      <th>unknown</th>\n",
       "      <td>0.016100</td>\n",
       "      <td>0.088758</td>\n",
       "      <td>0.761445</td>\n",
       "      <td>0.133697</td>\n",
       "    </tr>\n",
       "  </tbody>\n",
       "</table>\n",
       "</div>"
      ],
      "text/plain": [
       "user_type  contributor  new_user  non_reader    reader\n",
       "gender                                                \n",
       "female        0.018656  0.077770    0.742789  0.160785\n",
       "male          0.025783  0.057725    0.731189  0.185303\n",
       "unknown       0.016100  0.088758    0.761445  0.133697"
      ]
     },
     "execution_count": 263,
     "metadata": {},
     "output_type": "execute_result"
    }
   ],
   "source": [
    "pd.crosstab(total_v0['gender'],total_v0['user_type']).apply(lambda r:r/r.sum(),axis=1)"
   ]
  },
  {
   "cell_type": "markdown",
   "id": "6a11efdf",
   "metadata": {},
   "source": [
    "The distribution between gender and usertype is balanced."
   ]
  },
  {
   "cell_type": "code",
   "execution_count": 246,
   "id": "d86ab608",
   "metadata": {
    "scrolled": true
   },
   "outputs": [
    {
     "name": "stdout",
     "output_type": "stream",
     "text": [
      "non_reader ---> Ttest_indResult(statistic=10.512731265241568, pvalue=1.0568832512432239e-25)\n",
      "reader ---> Ttest_indResult(statistic=4.1935306650967945, pvalue=2.8985019711630837e-05)\n",
      "new_user ---> Ttest_indResult(statistic=3.0604779571128873, pvalue=0.0022629092777879177)\n",
      "contributor ---> Ttest_indResult(statistic=0.5909167782289572, pvalue=0.5554648962086736)\n"
     ]
    }
   ],
   "source": [
    "utype=total_v0['user_type'].unique().tolist()\n",
    "for u in utype:\n",
    "    control=total_v0[(total_v0.variant_number==0)&(total_v0.user_type==u)]\n",
    "    treat=total_v0[(total_v0.variant_number==1)&(total_v0.user_type==u)]\n",
    "    \n",
    "    mean1_1=treat['active_mins'].mean()\n",
    "    mean1_0=control['active_mins'].mean()\n",
    "    std1_1=treat['active_mins'].std()\n",
    "    std1_0=control['active_mins'].std()\n",
    "    count1_1=treat['active_mins'].count()\n",
    "    count1_0=control['active_mins'].count()\n",
    "    \n",
    "    result=ttest_ind_from_stats(mean1=mean1_1,std1=std1_1,nobs1=count1_1,\n",
    "                     mean2=mean1_0,std2=std1_0,nobs2=count1_0, equal_var=False)\n",
    "    print(u,'--->',result)"
   ]
  },
  {
   "cell_type": "markdown",
   "id": "5403684f",
   "metadata": {},
   "source": [
    "Only contributor p values are larger than 0.05, the other three types are significant"
   ]
  },
  {
   "cell_type": "code",
   "execution_count": 247,
   "id": "f115cb1f",
   "metadata": {},
   "outputs": [
    {
     "name": "stdout",
     "output_type": "stream",
     "text": [
      "male ---> Ttest_indResult(statistic=-0.7086394938772687, pvalue=0.47856936932472216)\n",
      "female ---> Ttest_indResult(statistic=0.23711214572996966, pvalue=0.812581798566387)\n",
      "unknown ---> Ttest_indResult(statistic=1.6286397378739212, pvalue=0.10354618954377928)\n"
     ]
    }
   ],
   "source": [
    "gtype=total_v0['gender'].unique().tolist()\n",
    "for g in gtype:\n",
    "    control=total_v0[(total_v0.variant_number==0)&(total_v0.gender==g)]\n",
    "    treat=total_v0[(total_v0.variant_number==1)&(total_v0.gender==g)]\n",
    "    \n",
    "    mean1_1=treat['active_mins'].mean()\n",
    "    mean1_0=control['active_mins'].mean()\n",
    "    std1_1=treat['active_mins'].std()\n",
    "    std1_0=control['active_mins'].std()\n",
    "    count1_1=treat['active_mins'].count()\n",
    "    count1_0=control['active_mins'].count()\n",
    "    \n",
    "    result=ttest_ind_from_stats(mean1=mean1_1,std1=std1_1,nobs1=count1_1,\n",
    "                     mean2=mean1_0,std2=std1_0,nobs2=count1_0, equal_var=False)\n",
    "    print(g,'--->',result)"
   ]
  },
  {
   "cell_type": "markdown",
   "id": "3684fe50",
   "metadata": {},
   "source": [
    "Three types of gender are not significant"
   ]
  },
  {
   "cell_type": "markdown",
   "id": "591a4fc1",
   "metadata": {},
   "source": [
    "### Dive down the segments: rule out the contributors"
   ]
  },
  {
   "cell_type": "code",
   "execution_count": 248,
   "id": "19587306",
   "metadata": {},
   "outputs": [],
   "source": [
    "##delete the user_type which is not significant\n",
    "clean_1=total_v0[total_v0['user_type']!='contributor']"
   ]
  },
  {
   "cell_type": "code",
   "execution_count": 249,
   "id": "e5a10d72",
   "metadata": {},
   "outputs": [
    {
     "data": {
      "text/plain": [
       "Ttest_indResult(statistic=2.334115438447026, pvalue=0.01960475130926271)"
      ]
     },
     "execution_count": 249,
     "metadata": {},
     "output_type": "execute_result"
    }
   ],
   "source": [
    "mean_1=clean_1[clean_1['variant_number']==1].active_mins.mean()\n",
    "std_1=clean_1[clean_1['variant_number']==1].active_mins.std()\n",
    "count_1=clean_1[clean_1['variant_number']==1].active_mins.count()\n",
    "mean_0=clean_1[clean_1['variant_number']==0].active_mins.mean()\n",
    "std_0=clean_1[clean_1['variant_number']==0].active_mins.std()\n",
    "count_0=clean_1[clean_1['variant_number']==0].active_mins.count()\n",
    "##Ttest\n",
    "ttest_ind_from_stats(mean1=mean_1,std1=std_1,nobs1=count_1,\n",
    "                     mean2=mean_0,std2=std_0,nobs2=count_0, equal_var=False)"
   ]
  },
  {
   "cell_type": "markdown",
   "id": "6eaec7ca",
   "metadata": {},
   "source": [
    "If we rule out the type of contributor, thus the p value would be less than 0.05, and it is sinificant. Thus, maybe we can push the UI design to specific user type('non_reader','reader','reader')"
   ]
  },
  {
   "cell_type": "markdown",
   "id": "03e6d732",
   "metadata": {},
   "source": [
    "### Difference in difference for different segment"
   ]
  },
  {
   "cell_type": "code",
   "execution_count": 264,
   "id": "fbfe52dd",
   "metadata": {},
   "outputs": [],
   "source": [
    "total=pd.merge(total_v1,t4_user_attributes,on=['uid'],how='inner')"
   ]
  },
  {
   "cell_type": "code",
   "execution_count": 265,
   "id": "daaa887f",
   "metadata": {},
   "outputs": [
    {
     "data": {
      "text/html": [
       "<div>\n",
       "<style scoped>\n",
       "    .dataframe tbody tr th:only-of-type {\n",
       "        vertical-align: middle;\n",
       "    }\n",
       "\n",
       "    .dataframe tbody tr th {\n",
       "        vertical-align: top;\n",
       "    }\n",
       "\n",
       "    .dataframe thead th {\n",
       "        text-align: right;\n",
       "    }\n",
       "</style>\n",
       "<table border=\"1\" class=\"dataframe\">\n",
       "  <thead>\n",
       "    <tr style=\"text-align: right;\">\n",
       "      <th></th>\n",
       "      <th>variant_number</th>\n",
       "      <th>uid</th>\n",
       "      <th>active_mins_x</th>\n",
       "      <th>active_mins_y</th>\n",
       "      <th>diff</th>\n",
       "      <th>gender</th>\n",
       "      <th>user_type</th>\n",
       "    </tr>\n",
       "  </thead>\n",
       "  <tbody>\n",
       "    <tr>\n",
       "      <th>0</th>\n",
       "      <td>0</td>\n",
       "      <td>1</td>\n",
       "      <td>15205.0</td>\n",
       "      <td>19158.0</td>\n",
       "      <td>-3953.0</td>\n",
       "      <td>male</td>\n",
       "      <td>reader</td>\n",
       "    </tr>\n",
       "    <tr>\n",
       "      <th>1</th>\n",
       "      <td>0</td>\n",
       "      <td>3</td>\n",
       "      <td>77.0</td>\n",
       "      <td>108.0</td>\n",
       "      <td>-31.0</td>\n",
       "      <td>male</td>\n",
       "      <td>non_reader</td>\n",
       "    </tr>\n",
       "    <tr>\n",
       "      <th>2</th>\n",
       "      <td>0</td>\n",
       "      <td>4</td>\n",
       "      <td>39.0</td>\n",
       "      <td>66.0</td>\n",
       "      <td>-27.0</td>\n",
       "      <td>male</td>\n",
       "      <td>non_reader</td>\n",
       "    </tr>\n",
       "    <tr>\n",
       "      <th>3</th>\n",
       "      <td>0</td>\n",
       "      <td>5</td>\n",
       "      <td>174.0</td>\n",
       "      <td>21.0</td>\n",
       "      <td>153.0</td>\n",
       "      <td>female</td>\n",
       "      <td>non_reader</td>\n",
       "    </tr>\n",
       "    <tr>\n",
       "      <th>4</th>\n",
       "      <td>0</td>\n",
       "      <td>6</td>\n",
       "      <td>26.0</td>\n",
       "      <td>12.0</td>\n",
       "      <td>14.0</td>\n",
       "      <td>female</td>\n",
       "      <td>non_reader</td>\n",
       "    </tr>\n",
       "    <tr>\n",
       "      <th>...</th>\n",
       "      <td>...</td>\n",
       "      <td>...</td>\n",
       "      <td>...</td>\n",
       "      <td>...</td>\n",
       "      <td>...</td>\n",
       "      <td>...</td>\n",
       "      <td>...</td>\n",
       "    </tr>\n",
       "    <tr>\n",
       "      <th>35221</th>\n",
       "      <td>1</td>\n",
       "      <td>49993</td>\n",
       "      <td>129.0</td>\n",
       "      <td>197.0</td>\n",
       "      <td>-68.0</td>\n",
       "      <td>male</td>\n",
       "      <td>non_reader</td>\n",
       "    </tr>\n",
       "    <tr>\n",
       "      <th>35222</th>\n",
       "      <td>1</td>\n",
       "      <td>49994</td>\n",
       "      <td>79.0</td>\n",
       "      <td>15.0</td>\n",
       "      <td>64.0</td>\n",
       "      <td>female</td>\n",
       "      <td>non_reader</td>\n",
       "    </tr>\n",
       "    <tr>\n",
       "      <th>35223</th>\n",
       "      <td>1</td>\n",
       "      <td>49996</td>\n",
       "      <td>156.0</td>\n",
       "      <td>243.0</td>\n",
       "      <td>-87.0</td>\n",
       "      <td>male</td>\n",
       "      <td>non_reader</td>\n",
       "    </tr>\n",
       "    <tr>\n",
       "      <th>35224</th>\n",
       "      <td>1</td>\n",
       "      <td>49998</td>\n",
       "      <td>597.0</td>\n",
       "      <td>124.0</td>\n",
       "      <td>473.0</td>\n",
       "      <td>male</td>\n",
       "      <td>non_reader</td>\n",
       "    </tr>\n",
       "    <tr>\n",
       "      <th>35225</th>\n",
       "      <td>1</td>\n",
       "      <td>49999</td>\n",
       "      <td>39.0</td>\n",
       "      <td>77.0</td>\n",
       "      <td>-38.0</td>\n",
       "      <td>female</td>\n",
       "      <td>non_reader</td>\n",
       "    </tr>\n",
       "  </tbody>\n",
       "</table>\n",
       "<p>35226 rows × 7 columns</p>\n",
       "</div>"
      ],
      "text/plain": [
       "       variant_number    uid  active_mins_x  active_mins_y    diff  gender  \\\n",
       "0                   0      1        15205.0        19158.0 -3953.0    male   \n",
       "1                   0      3           77.0          108.0   -31.0    male   \n",
       "2                   0      4           39.0           66.0   -27.0    male   \n",
       "3                   0      5          174.0           21.0   153.0  female   \n",
       "4                   0      6           26.0           12.0    14.0  female   \n",
       "...               ...    ...            ...            ...     ...     ...   \n",
       "35221               1  49993          129.0          197.0   -68.0    male   \n",
       "35222               1  49994           79.0           15.0    64.0  female   \n",
       "35223               1  49996          156.0          243.0   -87.0    male   \n",
       "35224               1  49998          597.0          124.0   473.0    male   \n",
       "35225               1  49999           39.0           77.0   -38.0  female   \n",
       "\n",
       "        user_type  \n",
       "0          reader  \n",
       "1      non_reader  \n",
       "2      non_reader  \n",
       "3      non_reader  \n",
       "4      non_reader  \n",
       "...           ...  \n",
       "35221  non_reader  \n",
       "35222  non_reader  \n",
       "35223  non_reader  \n",
       "35224  non_reader  \n",
       "35225  non_reader  \n",
       "\n",
       "[35226 rows x 7 columns]"
      ]
     },
     "execution_count": 265,
     "metadata": {},
     "output_type": "execute_result"
    }
   ],
   "source": [
    "total"
   ]
  },
  {
   "cell_type": "code",
   "execution_count": 266,
   "id": "2c9b8431",
   "metadata": {},
   "outputs": [],
   "source": [
    "total=total.rename(columns={'active_mins_x':'p_active_mins',\n",
    "                            'active_mins_y':'b_active_mins'})"
   ]
  },
  {
   "cell_type": "code",
   "execution_count": 267,
   "id": "ee2acc37",
   "metadata": {
    "scrolled": true
   },
   "outputs": [
    {
     "data": {
      "text/html": [
       "<div>\n",
       "<style scoped>\n",
       "    .dataframe tbody tr th:only-of-type {\n",
       "        vertical-align: middle;\n",
       "    }\n",
       "\n",
       "    .dataframe tbody tr th {\n",
       "        vertical-align: top;\n",
       "    }\n",
       "\n",
       "    .dataframe thead th {\n",
       "        text-align: right;\n",
       "    }\n",
       "</style>\n",
       "<table border=\"1\" class=\"dataframe\">\n",
       "  <thead>\n",
       "    <tr style=\"text-align: right;\">\n",
       "      <th></th>\n",
       "      <th>variant_number</th>\n",
       "      <th>uid</th>\n",
       "      <th>p_active_mins</th>\n",
       "      <th>b_active_mins</th>\n",
       "      <th>diff</th>\n",
       "      <th>gender</th>\n",
       "      <th>user_type</th>\n",
       "    </tr>\n",
       "  </thead>\n",
       "  <tbody>\n",
       "    <tr>\n",
       "      <th>0</th>\n",
       "      <td>0</td>\n",
       "      <td>1</td>\n",
       "      <td>15205.0</td>\n",
       "      <td>19158.0</td>\n",
       "      <td>-3953.0</td>\n",
       "      <td>male</td>\n",
       "      <td>reader</td>\n",
       "    </tr>\n",
       "    <tr>\n",
       "      <th>1</th>\n",
       "      <td>0</td>\n",
       "      <td>3</td>\n",
       "      <td>77.0</td>\n",
       "      <td>108.0</td>\n",
       "      <td>-31.0</td>\n",
       "      <td>male</td>\n",
       "      <td>non_reader</td>\n",
       "    </tr>\n",
       "    <tr>\n",
       "      <th>2</th>\n",
       "      <td>0</td>\n",
       "      <td>4</td>\n",
       "      <td>39.0</td>\n",
       "      <td>66.0</td>\n",
       "      <td>-27.0</td>\n",
       "      <td>male</td>\n",
       "      <td>non_reader</td>\n",
       "    </tr>\n",
       "    <tr>\n",
       "      <th>3</th>\n",
       "      <td>0</td>\n",
       "      <td>5</td>\n",
       "      <td>174.0</td>\n",
       "      <td>21.0</td>\n",
       "      <td>153.0</td>\n",
       "      <td>female</td>\n",
       "      <td>non_reader</td>\n",
       "    </tr>\n",
       "    <tr>\n",
       "      <th>4</th>\n",
       "      <td>0</td>\n",
       "      <td>6</td>\n",
       "      <td>26.0</td>\n",
       "      <td>12.0</td>\n",
       "      <td>14.0</td>\n",
       "      <td>female</td>\n",
       "      <td>non_reader</td>\n",
       "    </tr>\n",
       "    <tr>\n",
       "      <th>...</th>\n",
       "      <td>...</td>\n",
       "      <td>...</td>\n",
       "      <td>...</td>\n",
       "      <td>...</td>\n",
       "      <td>...</td>\n",
       "      <td>...</td>\n",
       "      <td>...</td>\n",
       "    </tr>\n",
       "    <tr>\n",
       "      <th>35221</th>\n",
       "      <td>1</td>\n",
       "      <td>49993</td>\n",
       "      <td>129.0</td>\n",
       "      <td>197.0</td>\n",
       "      <td>-68.0</td>\n",
       "      <td>male</td>\n",
       "      <td>non_reader</td>\n",
       "    </tr>\n",
       "    <tr>\n",
       "      <th>35222</th>\n",
       "      <td>1</td>\n",
       "      <td>49994</td>\n",
       "      <td>79.0</td>\n",
       "      <td>15.0</td>\n",
       "      <td>64.0</td>\n",
       "      <td>female</td>\n",
       "      <td>non_reader</td>\n",
       "    </tr>\n",
       "    <tr>\n",
       "      <th>35223</th>\n",
       "      <td>1</td>\n",
       "      <td>49996</td>\n",
       "      <td>156.0</td>\n",
       "      <td>243.0</td>\n",
       "      <td>-87.0</td>\n",
       "      <td>male</td>\n",
       "      <td>non_reader</td>\n",
       "    </tr>\n",
       "    <tr>\n",
       "      <th>35224</th>\n",
       "      <td>1</td>\n",
       "      <td>49998</td>\n",
       "      <td>597.0</td>\n",
       "      <td>124.0</td>\n",
       "      <td>473.0</td>\n",
       "      <td>male</td>\n",
       "      <td>non_reader</td>\n",
       "    </tr>\n",
       "    <tr>\n",
       "      <th>35225</th>\n",
       "      <td>1</td>\n",
       "      <td>49999</td>\n",
       "      <td>39.0</td>\n",
       "      <td>77.0</td>\n",
       "      <td>-38.0</td>\n",
       "      <td>female</td>\n",
       "      <td>non_reader</td>\n",
       "    </tr>\n",
       "  </tbody>\n",
       "</table>\n",
       "<p>35226 rows × 7 columns</p>\n",
       "</div>"
      ],
      "text/plain": [
       "       variant_number    uid  p_active_mins  b_active_mins    diff  gender  \\\n",
       "0                   0      1        15205.0        19158.0 -3953.0    male   \n",
       "1                   0      3           77.0          108.0   -31.0    male   \n",
       "2                   0      4           39.0           66.0   -27.0    male   \n",
       "3                   0      5          174.0           21.0   153.0  female   \n",
       "4                   0      6           26.0           12.0    14.0  female   \n",
       "...               ...    ...            ...            ...     ...     ...   \n",
       "35221               1  49993          129.0          197.0   -68.0    male   \n",
       "35222               1  49994           79.0           15.0    64.0  female   \n",
       "35223               1  49996          156.0          243.0   -87.0    male   \n",
       "35224               1  49998          597.0          124.0   473.0    male   \n",
       "35225               1  49999           39.0           77.0   -38.0  female   \n",
       "\n",
       "        user_type  \n",
       "0          reader  \n",
       "1      non_reader  \n",
       "2      non_reader  \n",
       "3      non_reader  \n",
       "4      non_reader  \n",
       "...           ...  \n",
       "35221  non_reader  \n",
       "35222  non_reader  \n",
       "35223  non_reader  \n",
       "35224  non_reader  \n",
       "35225  non_reader  \n",
       "\n",
       "[35226 rows x 7 columns]"
      ]
     },
     "execution_count": 267,
     "metadata": {},
     "output_type": "execute_result"
    }
   ],
   "source": [
    "total"
   ]
  },
  {
   "cell_type": "code",
   "execution_count": 269,
   "id": "367179d6",
   "metadata": {},
   "outputs": [
    {
     "name": "stdout",
     "output_type": "stream",
     "text": [
      "reader ---> Ttest_indResult(statistic=14.794557927587649, pvalue=3.833908373606965e-46)\n",
      "non_reader ---> Ttest_indResult(statistic=12.179658151461627, pvalue=8.951419865424315e-34)\n",
      "contributor ---> Ttest_indResult(statistic=4.748764186255324, pvalue=5.064179841331389e-06)\n"
     ]
    }
   ],
   "source": [
    "utype=total['user_type'].unique().tolist()\n",
    "for u in utype:\n",
    "    control=total[(total.variant_number==0)&(total.user_type==u)]\n",
    "    treat=total[(total.variant_number==1)&(total.user_type==u)]\n",
    "    \n",
    "    mean1_1=treat['diff'].mean()\n",
    "    mean1_0=control['diff'].mean()\n",
    "    std1_1=treat['diff'].std()\n",
    "    std1_0=control['diff'].std()\n",
    "    count1_1=treat['diff'].count()\n",
    "    count1_0=control['diff'].count()\n",
    "    \n",
    "    result=ttest_ind_from_stats(mean1=mean1_1,std1=std1_1,nobs1=count1_1,\n",
    "                     mean2=mean1_0,std2=std1_0,nobs2=count1_0, equal_var=False)\n",
    "    print(u,'--->',result)"
   ]
  },
  {
   "cell_type": "code",
   "execution_count": 270,
   "id": "4dc9d028",
   "metadata": {},
   "outputs": [
    {
     "name": "stdout",
     "output_type": "stream",
     "text": [
      "male ---> Ttest_indResult(statistic=14.014820531911841, pvalue=6.817909455245259e-44)\n",
      "female ---> Ttest_indResult(statistic=10.047919497165974, pvalue=2.0477146079946833e-23)\n",
      "unknown ---> Ttest_indResult(statistic=8.088976875085036, pvalue=1.0807751186242091e-15)\n"
     ]
    }
   ],
   "source": [
    "gender=total['gender'].unique().tolist()\n",
    "for g in gender:\n",
    "    control=total[(total.variant_number==0)&(total.gender==g)]\n",
    "    treat=total[(total.variant_number==1)&(total.gender==g)]\n",
    "    \n",
    "    mean1_1=treat['diff'].mean()\n",
    "    mean1_0=control['diff'].mean()\n",
    "    std1_1=treat['diff'].std()\n",
    "    std1_0=control['diff'].std()\n",
    "    count1_1=treat['diff'].count()\n",
    "    count1_0=control['diff'].count()\n",
    "    \n",
    "    result=ttest_ind_from_stats(mean1=mean1_1,std1=std1_1,nobs1=count1_1,\n",
    "                     mean2=mean1_0,std2=std1_0,nobs2=count1_0, equal_var=False)\n",
    "    print(g,'--->',result)"
   ]
  },
  {
   "cell_type": "markdown",
   "id": "b72013eb",
   "metadata": {},
   "source": [
    "Three user types and three types of gender are all significant"
   ]
  },
  {
   "cell_type": "code",
   "execution_count": 271,
   "id": "8d4c1b10",
   "metadata": {},
   "outputs": [
    {
     "name": "stdout",
     "output_type": "stream",
     "text": [
      "reader confidence interval---> (625.8366096945716, 858.7060359486176)\n",
      "non_reader confidence interval---> (133.30429639523686, 165.84276015552007)\n",
      "contributor confidence interval---> (441.6421569448669, 2030.1869936081096)\n"
     ]
    }
   ],
   "source": [
    "for u in utype:\n",
    "    control=total[(total.variant_number==0)&(total.user_type==u)]\n",
    "    treat=total[(total.variant_number==1)&(total.user_type==u)]\n",
    "    \n",
    "    mean1_1=treat['diff'].mean()\n",
    "    mean1_0=control['diff'].mean()\n",
    "    std1_1=treat['diff'].std()\n",
    "    std1_0=control['diff'].std()\n",
    "    count1_1=treat['diff'].count()\n",
    "    count1_0=control['diff'].count()\n",
    "    \n",
    "    \n",
    "    CI=calc_CI(mean1_1,std1_1,count1_1,mean0_1,std0_1,count0_1,0.95)\n",
    "    print(u,'confidence interval--->',CI)"
   ]
  },
  {
   "cell_type": "code",
   "execution_count": 272,
   "id": "5c1079de",
   "metadata": {
    "scrolled": true
   },
   "outputs": [
    {
     "name": "stdout",
     "output_type": "stream",
     "text": [
      "male confidence interval---> (258.80140507459055, 338.52942359373355)\n",
      "female confidence interval---> (171.7182287043158, 241.80910652740957)\n",
      "unknown confidence interval---> (173.76871208105666, 281.3827196023427)\n"
     ]
    }
   ],
   "source": [
    "for g in gender:\n",
    "    control=total[(total.variant_number==0)&(total.gender==g)]\n",
    "    treat=total[(total.variant_number==1)&(total.gender==g)]\n",
    "    \n",
    "    mean1_1=treat['diff'].mean()\n",
    "    mean1_0=control['diff'].mean()\n",
    "    std1_1=treat['diff'].std()\n",
    "    std1_0=control['diff'].std()\n",
    "    count1_1=treat['diff'].count()\n",
    "    count1_0=control['diff'].count()\n",
    "    \n",
    "    \n",
    "    CI=calc_CI(mean1_1,std1_1,count1_1,mean0_1,std0_1,count0_1,0.95)\n",
    "    print(g,'confidence interval--->',CI)"
   ]
  },
  {
   "cell_type": "markdown",
   "id": "0561481a",
   "metadata": {},
   "source": [
    "## Summary\n",
    "To analysis the new UI effect, I chose the total minutes per user in each group as a unit of analysis. After cleaning up the data, the T-Test result is not significant but we need to conduct further research to conclude. After selecting the same group of users, the difference in different methods manifests that the duration per user in the treatment group is way less than that in the control group. With the launch of the new UI design, the difference between the duration of users in the treatment group and users in the control group shrinks. The T-test proves that the difference is significant so we can claim that the new UI design played a positive role and we should launch the UI design. To further support our conclusion, we dive into segments of the data. In terms of user types, in addition to the contributor, the data for the other three types of users are significant. Combined with the DID methods, the duration for users of all kinds of user types and genders increased significantly. "
   ]
  }
 ],
 "metadata": {
  "kernelspec": {
   "display_name": "Python 3",
   "language": "python",
   "name": "python3"
  },
  "language_info": {
   "codemirror_mode": {
    "name": "ipython",
    "version": 3
   },
   "file_extension": ".py",
   "mimetype": "text/x-python",
   "name": "python",
   "nbconvert_exporter": "python",
   "pygments_lexer": "ipython3",
   "version": "3.8.10"
  }
 },
 "nbformat": 4,
 "nbformat_minor": 5
}
